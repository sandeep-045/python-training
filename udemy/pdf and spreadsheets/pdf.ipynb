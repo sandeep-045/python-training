{
 "cells": [
  {
   "cell_type": "code",
   "execution_count": 1,
   "id": "1698e4d8",
   "metadata": {},
   "outputs": [],
   "source": [
    "import PyPDF2"
   ]
  },
  {
   "cell_type": "code",
   "execution_count": 2,
   "id": "a3a97076",
   "metadata": {},
   "outputs": [],
   "source": [
    "x=open('Working_Business_Proposal.pdf','rb')"
   ]
  },
  {
   "cell_type": "code",
   "execution_count": 3,
   "id": "346f5564",
   "metadata": {},
   "outputs": [],
   "source": [
    "pe=PyPDF2.PdfFileReader(x)"
   ]
  },
  {
   "cell_type": "code",
   "execution_count": 6,
   "id": "ffb28231",
   "metadata": {},
   "outputs": [],
   "source": [
    "p1=pe.getPage(0)"
   ]
  },
  {
   "cell_type": "code",
   "execution_count": 7,
   "id": "69d40464",
   "metadata": {},
   "outputs": [],
   "source": [
    "p1te=p1.extractText()"
   ]
  },
  {
   "cell_type": "code",
   "execution_count": 8,
   "id": "d0841a55",
   "metadata": {},
   "outputs": [
    {
     "data": {
      "text/plain": [
       "'Business Proposal\\n The Revolution is Coming\\n Leverage agile frameworks to provide a robust synopsis for high level \\noverviews. Iterative approaches to corporate strategy foster collaborative \\nthinking to further the overall value proposition. Organically grow the \\nholistic world view of disruptive innovation via workplace diversity and \\nempowerment. \\nBring to the table win-win survival strategies to ensure proactive \\ndomination. At the end of the day, going forward, a new normal that has \\nevolved from generation X is on the runway heading towards a streamlined \\ncloud solution. User generated content in real-time will have multiple \\ntouchpoints for offshoring. \\nCapitalize on low hanging fruit to identify a ballpark value added activity to \\nbeta test. Override the digital divide with additional clickthroughs from \\nDevOps. Nanotechnology immersion along the information highway will \\nclose the loop on focusing solely on the bottom line. Podcasting operational change management inside of workßows to \\nestablish a framework. Taking seamless key performance indicators ofßine \\nto maximise the long tail. Keeping your eye on the ball while performing a \\ndeep dive on the start-up mentality to derive convergence on cross-\\nplatform integration. \\nCollaboratively administrate empowered markets via plug-and-play \\nnetworks. Dynamically procrastinate B2C users after installed base \\nbeneÞts. Dramatically visualize customer directed convergence without \\nrevolutionary ROI. \\nEfÞciently unleash cross-media information without cross-media value. \\nQuickly maximize timely deliverables for real-time schemas. Dramatically \\nmaintain clicks-and-mortar solutions without functional solutions. \\nBUSINESS PROPOSAL\\n!1'"
      ]
     },
     "execution_count": 8,
     "metadata": {},
     "output_type": "execute_result"
    }
   ],
   "source": [
    "p1te"
   ]
  },
  {
   "cell_type": "code",
   "execution_count": 9,
   "id": "b83a1058",
   "metadata": {},
   "outputs": [],
   "source": [
    "f=open('Some_BrandNew_Doc.pdf','wb')"
   ]
  },
  {
   "cell_type": "code",
   "execution_count": 12,
   "id": "ebcc659a",
   "metadata": {},
   "outputs": [],
   "source": [
    "write_t=PyPDF2.PdfFileWriter()"
   ]
  },
  {
   "cell_type": "code",
   "execution_count": 14,
   "id": "acb980a4",
   "metadata": {},
   "outputs": [],
   "source": [
    "write_t.addPage(p1)"
   ]
  },
  {
   "cell_type": "code",
   "execution_count": 15,
   "id": "881028ce",
   "metadata": {},
   "outputs": [],
   "source": [
    "write_t.write(f)"
   ]
  },
  {
   "cell_type": "code",
   "execution_count": 16,
   "id": "f88c0fe4",
   "metadata": {},
   "outputs": [],
   "source": [
    "f.close()"
   ]
  }
 ],
 "metadata": {
  "kernelspec": {
   "display_name": "Python 3",
   "language": "python",
   "name": "python3"
  },
  "language_info": {
   "codemirror_mode": {
    "name": "ipython",
    "version": 3
   },
   "file_extension": ".py",
   "mimetype": "text/x-python",
   "name": "python",
   "nbconvert_exporter": "python",
   "pygments_lexer": "ipython3",
   "version": "3.8.2"
  }
 },
 "nbformat": 4,
 "nbformat_minor": 5
}
