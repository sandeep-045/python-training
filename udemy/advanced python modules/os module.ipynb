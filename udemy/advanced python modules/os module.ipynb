{
 "cells": [
  {
   "cell_type": "code",
   "execution_count": 1,
   "id": "34b9bb08",
   "metadata": {},
   "outputs": [],
   "source": [
    "import os"
   ]
  },
  {
   "cell_type": "code",
   "execution_count": 3,
   "id": "ce952557",
   "metadata": {},
   "outputs": [
    {
     "data": {
      "text/plain": [
       "'/Users/sandeep/Desktop/python training/udemy/advanced python modules'"
      ]
     },
     "execution_count": 3,
     "metadata": {},
     "output_type": "execute_result"
    }
   ],
   "source": [
    "os.getcwd()"
   ]
  },
  {
   "cell_type": "code",
   "execution_count": 6,
   "id": "9ecfcefb",
   "metadata": {},
   "outputs": [
    {
     "data": {
      "text/plain": [
       "['Example_Top_Level',\n",
       " 'zip and unzip.ipynb',\n",
       " 'compressed.zip',\n",
       " '.DS_Store',\n",
       " 'datetime.ipynb',\n",
       " '08-Advanced-Python-Module-Exercise',\n",
       " 'regex.ipynb',\n",
       " 'unzipped_shutil2_folder',\n",
       " 'OS.ipynb',\n",
       " 'extracted_here',\n",
       " 'Collections.ipynb',\n",
       " 'zipped_shutil.zip',\n",
       " '.ipynb_checkpoints',\n",
       " 'zipped_shutil2.zip']"
      ]
     },
     "execution_count": 6,
     "metadata": {},
     "output_type": "execute_result"
    }
   ],
   "source": [
    "os.listdir()"
   ]
  },
  {
   "cell_type": "code",
   "execution_count": 8,
   "id": "1ec54942",
   "metadata": {
    "scrolled": true
   },
   "outputs": [
    {
     "data": {
      "text/plain": [
       "['.DS_Store', 'Mid-Example.txt', 'Mid-Example-One']"
      ]
     },
     "execution_count": 8,
     "metadata": {},
     "output_type": "execute_result"
    }
   ],
   "source": [
    "os.listdir('Example_Top_Level/')"
   ]
  },
  {
   "cell_type": "code",
   "execution_count": 9,
   "id": "b4ba883d",
   "metadata": {},
   "outputs": [],
   "source": [
    "import shutil"
   ]
  },
  {
   "cell_type": "code",
   "execution_count": 10,
   "id": "68f50edc",
   "metadata": {},
   "outputs": [
    {
     "data": {
      "text/plain": [
       "'extracted_here/titled.txt'"
      ]
     },
     "execution_count": 10,
     "metadata": {},
     "output_type": "execute_result"
    }
   ],
   "source": [
    "shutil.move('titled.txt','extracted_here/')"
   ]
  },
  {
   "cell_type": "markdown",
   "id": "6f72378d",
   "metadata": {},
   "source": [
    "send2trash sends to recycle bin instead of deleting it"
   ]
  },
  {
   "cell_type": "markdown",
   "id": "b995038b",
   "metadata": {},
   "source": [
    "some other modules are os.unlink('file_path') os.rmdir('folder_path') shutil.rmtree('path')"
   ]
  }
 ],
 "metadata": {
  "kernelspec": {
   "display_name": "Python 3",
   "language": "python",
   "name": "python3"
  },
  "language_info": {
   "codemirror_mode": {
    "name": "ipython",
    "version": 3
   },
   "file_extension": ".py",
   "mimetype": "text/x-python",
   "name": "python",
   "nbconvert_exporter": "python",
   "pygments_lexer": "ipython3",
   "version": "3.8.2"
  }
 },
 "nbformat": 4,
 "nbformat_minor": 5
}
