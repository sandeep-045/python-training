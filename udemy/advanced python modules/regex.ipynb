{
 "cells": [
  {
   "cell_type": "code",
   "execution_count": 1,
   "id": "f15585ed",
   "metadata": {},
   "outputs": [],
   "source": [
    "import re"
   ]
  },
  {
   "cell_type": "code",
   "execution_count": 66,
   "id": "71cefdc1",
   "metadata": {},
   "outputs": [],
   "source": [
    "text=\"Call the cops 9012-909-908 college1 college2 college3\""
   ]
  },
  {
   "cell_type": "code",
   "execution_count": 70,
   "id": "63a48427",
   "metadata": {},
   "outputs": [],
   "source": [
    "pattern1=r\"\\d{3}2-\\d{3}-\\d{3}\""
   ]
  },
  {
   "cell_type": "code",
   "execution_count": 77,
   "id": "071d3c16",
   "metadata": {},
   "outputs": [],
   "source": [
    "pattern2=r\"\\w{7}\\d\""
   ]
  },
  {
   "cell_type": "code",
   "execution_count": 78,
   "id": "09a0072f",
   "metadata": {},
   "outputs": [],
   "source": [
    "mat=re.finditer(pattern2,text)"
   ]
  },
  {
   "cell_type": "code",
   "execution_count": 79,
   "id": "ea076e31",
   "metadata": {
    "scrolled": true
   },
   "outputs": [
    {
     "name": "stdout",
     "output_type": "stream",
     "text": [
      "<re.Match object; span=(27, 35), match='college1'>\n",
      "<re.Match object; span=(36, 44), match='college2'>\n",
      "<re.Match object; span=(45, 53), match='college3'>\n"
     ]
    }
   ],
   "source": [
    "for i in mat:\n",
    "    print(i)"
   ]
  },
  {
   "cell_type": "code",
   "execution_count": 80,
   "id": "36d49ae9",
   "metadata": {},
   "outputs": [],
   "source": [
    "s=\"I wanna, remove Punctuations! from the sentence?\""
   ]
  },
  {
   "cell_type": "code",
   "execution_count": 83,
   "id": "77f7dcd8",
   "metadata": {},
   "outputs": [],
   "source": [
    "pattern=r\"[^,!? ]+\""
   ]
  },
  {
   "cell_type": "code",
   "execution_count": 84,
   "id": "8b23416a",
   "metadata": {},
   "outputs": [
    {
     "data": {
      "text/plain": [
       "['I', 'wanna', 'remove', 'Punctuations', 'from', 'the', 'sentence']"
      ]
     },
     "execution_count": 84,
     "metadata": {},
     "output_type": "execute_result"
    }
   ],
   "source": [
    "re.findall(pattern,s)"
   ]
  },
  {
   "cell_type": "code",
   "execution_count": 98,
   "id": "8cff25fc",
   "metadata": {},
   "outputs": [],
   "source": [
    "txt=\"Find the words-with matched hyphens-as shown-in the sentence -\""
   ]
  },
  {
   "cell_type": "code",
   "execution_count": 99,
   "id": "53d902ca",
   "metadata": {},
   "outputs": [],
   "source": [
    "pattern4=r\"[^ ]\\w*-\\w*\""
   ]
  },
  {
   "cell_type": "code",
   "execution_count": 100,
   "id": "54e5eed2",
   "metadata": {},
   "outputs": [
    {
     "data": {
      "text/plain": [
       "['words-with', 'hyphens-as', 'shown-in']"
      ]
     },
     "execution_count": 100,
     "metadata": {},
     "output_type": "execute_result"
    }
   ],
   "source": [
    "re.findall(pattern4,txt)"
   ]
  }
 ],
 "metadata": {
  "kernelspec": {
   "display_name": "Python 3",
   "language": "python",
   "name": "python3"
  },
  "language_info": {
   "codemirror_mode": {
    "name": "ipython",
    "version": 3
   },
   "file_extension": ".py",
   "mimetype": "text/x-python",
   "name": "python",
   "nbconvert_exporter": "python",
   "pygments_lexer": "ipython3",
   "version": "3.8.2"
  }
 },
 "nbformat": 4,
 "nbformat_minor": 5
}
