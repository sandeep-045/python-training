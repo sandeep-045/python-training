{
 "cells": [
  {
   "cell_type": "markdown",
   "id": "fbcc9813",
   "metadata": {},
   "source": [
    "Counter"
   ]
  },
  {
   "cell_type": "code",
   "execution_count": 3,
   "id": "71ebe674",
   "metadata": {},
   "outputs": [],
   "source": [
    "from collections import Counter"
   ]
  },
  {
   "cell_type": "code",
   "execution_count": 6,
   "id": "6d683c72",
   "metadata": {},
   "outputs": [],
   "source": [
    "l=list([1,23,4,5,343,1232,12321,2,23])"
   ]
  },
  {
   "cell_type": "code",
   "execution_count": 45,
   "id": "dc3d4535",
   "metadata": {},
   "outputs": [
    {
     "data": {
      "text/plain": [
       "Counter({1: 1, 23: 2, 4: 1, 5: 1, 343: 1, 1232: 1, 12321: 1, 2: 1})"
      ]
     },
     "execution_count": 45,
     "metadata": {},
     "output_type": "execute_result"
    }
   ],
   "source": [
    "Counter(l)"
   ]
  },
  {
   "cell_type": "code",
   "execution_count": 16,
   "id": "b68b0587",
   "metadata": {},
   "outputs": [
    {
     "data": {
      "text/plain": [
       "Counter({'a': 4, 'b': 3, 'c': 4, 'd': 4})"
      ]
     },
     "execution_count": 16,
     "metadata": {},
     "output_type": "execute_result"
    }
   ],
   "source": [
    "Counter(\"aaaabbbccccdddd\")"
   ]
  },
  {
   "cell_type": "code",
   "execution_count": 24,
   "id": "74707a9e",
   "metadata": {},
   "outputs": [],
   "source": [
    "x=Counter(l)"
   ]
  },
  {
   "cell_type": "code",
   "execution_count": 41,
   "id": "89574fe9",
   "metadata": {
    "scrolled": true
   },
   "outputs": [
    {
     "data": {
      "text/plain": [
       "('Sa', None)"
      ]
     },
     "execution_count": 41,
     "metadata": {},
     "output_type": "execute_result"
    }
   ],
   "source": [
    "x.popitem()"
   ]
  },
  {
   "cell_type": "code",
   "execution_count": 47,
   "id": "8d34c279",
   "metadata": {},
   "outputs": [
    {
     "data": {
      "text/plain": [
       "1"
      ]
     },
     "execution_count": 47,
     "metadata": {},
     "output_type": "execute_result"
    }
   ],
   "source": [
    "x.pop(1)"
   ]
  },
  {
   "cell_type": "code",
   "execution_count": 48,
   "id": "07a4d3e1",
   "metadata": {},
   "outputs": [
    {
     "data": {
      "text/plain": [
       "Counter({23: 2, 4: 1, 5: 1, 343: 1, 1232: 1, 12321: 1, 2: 1})"
      ]
     },
     "execution_count": 48,
     "metadata": {},
     "output_type": "execute_result"
    }
   ],
   "source": [
    "x"
   ]
  },
  {
   "cell_type": "markdown",
   "id": "9889d3ab",
   "metadata": {},
   "source": [
    "default dict "
   ]
  },
  {
   "cell_type": "code",
   "execution_count": 50,
   "id": "3e80a733",
   "metadata": {},
   "outputs": [],
   "source": [
    "from collections import defaultdict"
   ]
  },
  {
   "cell_type": "code",
   "execution_count": 51,
   "id": "65706154",
   "metadata": {},
   "outputs": [],
   "source": [
    "x=defaultdict(lambda:\"None\")"
   ]
  },
  {
   "cell_type": "code",
   "execution_count": 56,
   "id": "ed297af8",
   "metadata": {},
   "outputs": [
    {
     "data": {
      "text/plain": [
       "'None'"
      ]
     },
     "execution_count": 56,
     "metadata": {},
     "output_type": "execute_result"
    }
   ],
   "source": [
    "x[9]"
   ]
  },
  {
   "cell_type": "code",
   "execution_count": 57,
   "id": "6a61719a",
   "metadata": {},
   "outputs": [
    {
     "data": {
      "text/plain": [
       "dict_items([(0, 'None'), (9, 'None')])"
      ]
     },
     "execution_count": 57,
     "metadata": {},
     "output_type": "execute_result"
    }
   ],
   "source": [
    "x.items()"
   ]
  },
  {
   "cell_type": "markdown",
   "id": "7779bce3",
   "metadata": {},
   "source": [
    "namedtuple"
   ]
  },
  {
   "cell_type": "code",
   "execution_count": 58,
   "id": "66ea4f74",
   "metadata": {},
   "outputs": [],
   "source": [
    "from collections import namedtuple"
   ]
  },
  {
   "cell_type": "code",
   "execution_count": 60,
   "id": "ee68cfba",
   "metadata": {},
   "outputs": [],
   "source": [
    "x=namedtuple(\"student\",[\"name\",\"std\",\"BloodGroup\"])"
   ]
  },
  {
   "cell_type": "code",
   "execution_count": 62,
   "id": "b00004b9",
   "metadata": {},
   "outputs": [],
   "source": [
    "y=x(\"abhi\",7,\"B+ve\")"
   ]
  },
  {
   "cell_type": "code",
   "execution_count": 69,
   "id": "e5afaeca",
   "metadata": {},
   "outputs": [
    {
     "data": {
      "text/plain": [
       "('abhi', 'abhi')"
      ]
     },
     "execution_count": 69,
     "metadata": {},
     "output_type": "execute_result"
    }
   ],
   "source": [
    "y.name,y[0]"
   ]
  },
  {
   "cell_type": "code",
   "execution_count": 70,
   "id": "56e4d583",
   "metadata": {},
   "outputs": [
    {
     "data": {
      "text/plain": [
       "(7, 'B+ve')"
      ]
     },
     "execution_count": 70,
     "metadata": {},
     "output_type": "execute_result"
    }
   ],
   "source": [
    "y.std,y[2]"
   ]
  }
 ],
 "metadata": {
  "kernelspec": {
   "display_name": "Python 3",
   "language": "python",
   "name": "python3"
  },
  "language_info": {
   "codemirror_mode": {
    "name": "ipython",
    "version": 3
   },
   "file_extension": ".py",
   "mimetype": "text/x-python",
   "name": "python",
   "nbconvert_exporter": "python",
   "pygments_lexer": "ipython3",
   "version": "3.8.2"
  }
 },
 "nbformat": 4,
 "nbformat_minor": 5
}
