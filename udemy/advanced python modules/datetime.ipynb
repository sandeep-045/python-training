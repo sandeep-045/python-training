{
 "cells": [
  {
   "cell_type": "code",
   "execution_count": 1,
   "id": "391d08d1",
   "metadata": {},
   "outputs": [],
   "source": [
    "import datetime"
   ]
  },
  {
   "cell_type": "code",
   "execution_count": 7,
   "id": "cb43591a",
   "metadata": {},
   "outputs": [],
   "source": [
    "time=datetime.time(2,20,12,21)"
   ]
  },
  {
   "cell_type": "code",
   "execution_count": 9,
   "id": "8831bf3d",
   "metadata": {},
   "outputs": [
    {
     "data": {
      "text/plain": [
       "(2, 20, 12, 21)"
      ]
     },
     "execution_count": 9,
     "metadata": {},
     "output_type": "execute_result"
    }
   ],
   "source": [
    "time.hour,time.minute,time.second,time.microsecond"
   ]
  },
  {
   "cell_type": "code",
   "execution_count": 10,
   "id": "ce0a6326",
   "metadata": {},
   "outputs": [],
   "source": [
    "today=datetime.datetime.now()"
   ]
  },
  {
   "cell_type": "code",
   "execution_count": 16,
   "id": "86a1c20e",
   "metadata": {},
   "outputs": [
    {
     "data": {
      "text/plain": [
       "datetime.date(2021, 7, 1)"
      ]
     },
     "execution_count": 16,
     "metadata": {},
     "output_type": "execute_result"
    }
   ],
   "source": [
    "today.date()"
   ]
  },
  {
   "cell_type": "code",
   "execution_count": 17,
   "id": "38905b6b",
   "metadata": {},
   "outputs": [
    {
     "data": {
      "text/plain": [
       "7"
      ]
     },
     "execution_count": 17,
     "metadata": {},
     "output_type": "execute_result"
    }
   ],
   "source": [
    "today.date().month"
   ]
  },
  {
   "cell_type": "code",
   "execution_count": 18,
   "id": "5b018389",
   "metadata": {
    "scrolled": true
   },
   "outputs": [
    {
     "data": {
      "text/plain": [
       "20"
      ]
     },
     "execution_count": 18,
     "metadata": {},
     "output_type": "execute_result"
    }
   ],
   "source": [
    "today.time().hour"
   ]
  },
  {
   "cell_type": "code",
   "execution_count": 19,
   "id": "15a63dba",
   "metadata": {},
   "outputs": [],
   "source": [
    "date=datetime.datetime.today()"
   ]
  },
  {
   "cell_type": "code",
   "execution_count": 23,
   "id": "f8602dfd",
   "metadata": {},
   "outputs": [
    {
     "name": "stdout",
     "output_type": "stream",
     "text": [
      "1\n"
     ]
    }
   ],
   "source": [
    "print(date.date().day)"
   ]
  },
  {
   "cell_type": "code",
   "execution_count": 24,
   "id": "4ca7f359",
   "metadata": {},
   "outputs": [
    {
     "data": {
      "text/plain": [
       "'Thu Jul  1 20:03:40 2021'"
      ]
     },
     "execution_count": 24,
     "metadata": {},
     "output_type": "execute_result"
    }
   ],
   "source": [
    "today.ctime()"
   ]
  },
  {
   "cell_type": "code",
   "execution_count": 25,
   "id": "4d48590b",
   "metadata": {},
   "outputs": [],
   "source": [
    "from datetime import date"
   ]
  },
  {
   "cell_type": "code",
   "execution_count": 35,
   "id": "a0a5d16d",
   "metadata": {},
   "outputs": [],
   "source": [
    "dt=date(2000,1,26)"
   ]
  },
  {
   "cell_type": "code",
   "execution_count": 36,
   "id": "f2e832aa",
   "metadata": {},
   "outputs": [],
   "source": [
    "dt2=date.today()"
   ]
  }
 ],
 "metadata": {
  "kernelspec": {
   "display_name": "Python 3",
   "language": "python",
   "name": "python3"
  },
  "language_info": {
   "codemirror_mode": {
    "name": "ipython",
    "version": 3
   },
   "file_extension": ".py",
   "mimetype": "text/x-python",
   "name": "python",
   "nbconvert_exporter": "python",
   "pygments_lexer": "ipython3",
   "version": "3.8.2"
  }
 },
 "nbformat": 4,
 "nbformat_minor": 5
}
