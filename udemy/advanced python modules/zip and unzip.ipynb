{
 "cells": [
  {
   "cell_type": "code",
   "execution_count": 1,
   "id": "f82fa7b8",
   "metadata": {},
   "outputs": [],
   "source": [
    "f1=open('fileone.txt','w')\n",
    "f1.write(\"This is file-1\")\n",
    "f1.close()"
   ]
  },
  {
   "cell_type": "code",
   "execution_count": 2,
   "id": "af7151cb",
   "metadata": {},
   "outputs": [],
   "source": [
    "f2=open('filetwo.txt','w')\n",
    "f2.write(\"This is file-2\")\n",
    "f2.close()"
   ]
  },
  {
   "cell_type": "code",
   "execution_count": 10,
   "id": "9e6a19b8",
   "metadata": {},
   "outputs": [],
   "source": [
    "import zipfile\n",
    "\n",
    "zipped=zipfile.ZipFile('compressed.zip','w')"
   ]
  },
  {
   "cell_type": "code",
   "execution_count": 11,
   "id": "1a67e827",
   "metadata": {},
   "outputs": [],
   "source": [
    "zipped.write('fileone.txt',compress_type=zipfile.ZIP_DEFLATED)"
   ]
  },
  {
   "cell_type": "code",
   "execution_count": 12,
   "id": "e54595f3",
   "metadata": {},
   "outputs": [],
   "source": [
    "zipped.write('filetwo.txt',compress_type=zipfile.ZIP_DEFLATED)"
   ]
  },
  {
   "cell_type": "code",
   "execution_count": 13,
   "id": "fdd4c4a3",
   "metadata": {},
   "outputs": [],
   "source": [
    "zipped.close()"
   ]
  },
  {
   "cell_type": "code",
   "execution_count": 21,
   "id": "2947da99",
   "metadata": {},
   "outputs": [],
   "source": [
    "unzipper=zipfile.ZipFile('compressed.zip','r')"
   ]
  },
  {
   "cell_type": "code",
   "execution_count": 22,
   "id": "125e8873",
   "metadata": {},
   "outputs": [],
   "source": [
    "unzipper.extractall('extracted_here')"
   ]
  },
  {
   "cell_type": "code",
   "execution_count": 23,
   "id": "6e6e189d",
   "metadata": {},
   "outputs": [],
   "source": [
    "unzipper.close()"
   ]
  },
  {
   "cell_type": "code",
   "execution_count": 27,
   "id": "edc0c335",
   "metadata": {},
   "outputs": [],
   "source": [
    "import shutil"
   ]
  },
  {
   "cell_type": "code",
   "execution_count": 28,
   "id": "4c80e958",
   "metadata": {},
   "outputs": [],
   "source": [
    "dir_to_zip='extracted_here/'"
   ]
  },
  {
   "cell_type": "code",
   "execution_count": 29,
   "id": "93f5c01b",
   "metadata": {},
   "outputs": [
    {
     "data": {
      "text/plain": [
       "'/Users/sandeep/Desktop/python training/udemy/advanced python modules/zipped_shutil2.zip'"
      ]
     },
     "execution_count": 29,
     "metadata": {},
     "output_type": "execute_result"
    }
   ],
   "source": [
    "shutil.make_archive('zipped_shutil2','zip',dir_to_zip)"
   ]
  },
  {
   "cell_type": "code",
   "execution_count": 30,
   "id": "99bd2883",
   "metadata": {},
   "outputs": [],
   "source": [
    "shutil.unpack_archive('zipped_shutil2.zip','unzipped_shutil2_folder','zip')"
   ]
  }
 ],
 "metadata": {
  "kernelspec": {
   "display_name": "Python 3",
   "language": "python",
   "name": "python3"
  },
  "language_info": {
   "codemirror_mode": {
    "name": "ipython",
    "version": 3
   },
   "file_extension": ".py",
   "mimetype": "text/x-python",
   "name": "python",
   "nbconvert_exporter": "python",
   "pygments_lexer": "ipython3",
   "version": "3.8.2"
  }
 },
 "nbformat": 4,
 "nbformat_minor": 5
}
