{
 "cells": [
  {
   "cell_type": "code",
   "execution_count": null,
   "id": "dfde059c",
   "metadata": {},
   "outputs": [],
   "source": [
    "import imaplib"
   ]
  },
  {
   "cell_type": "code",
   "execution_count": null,
   "id": "d7a93c8a",
   "metadata": {},
   "outputs": [],
   "source": [
    "obj=imaplib.IMAP4_SSL(\"imap.gmail.com\")"
   ]
  },
  {
   "cell_type": "code",
   "execution_count": null,
   "id": "ea8adf5d",
   "metadata": {},
   "outputs": [],
   "source": [
    "import getpass\n",
    "email=getpass.getpass(\"Email\")\n",
    "password=getpass.getpass(\"password\")"
   ]
  },
  {
   "cell_type": "code",
   "execution_count": null,
   "id": "4139c8df",
   "metadata": {},
   "outputs": [],
   "source": [
    "obj.login(email,password)"
   ]
  },
  {
   "cell_type": "code",
   "execution_count": null,
   "id": "56dab690",
   "metadata": {},
   "outputs": [],
   "source": [
    "obj.select('inbox')"
   ]
  },
  {
   "cell_type": "code",
   "execution_count": null,
   "id": "bcd014e5",
   "metadata": {},
   "outputs": [],
   "source": [
    "typ,data=obj.search(None,'SUBJECT \"some weird subject\"')"
   ]
  },
  {
   "cell_type": "code",
   "execution_count": null,
   "id": "dd03f86e",
   "metadata": {},
   "outputs": [],
   "source": [
    "typ"
   ]
  },
  {
   "cell_type": "code",
   "execution_count": null,
   "id": "343b7a63",
   "metadata": {},
   "outputs": [],
   "source": [
    "data"
   ]
  },
  {
   "cell_type": "code",
   "execution_count": null,
   "id": "cd0bc52a",
   "metadata": {},
   "outputs": [],
   "source": [
    "result,email_data=obj.fetch(data[0],('RFC822'))"
   ]
  },
  {
   "cell_type": "code",
   "execution_count": null,
   "id": "f0357340",
   "metadata": {},
   "outputs": [],
   "source": [
    "result"
   ]
  },
  {
   "cell_type": "code",
   "execution_count": null,
   "id": "3b093ed3",
   "metadata": {},
   "outputs": [],
   "source": [
    "email_data"
   ]
  },
  {
   "cell_type": "code",
   "execution_count": null,
   "id": "bde5772d",
   "metadata": {},
   "outputs": [],
   "source": [
    "raw_email=email_data[0][1]"
   ]
  },
  {
   "cell_type": "code",
   "execution_count": null,
   "id": "b2e3b088",
   "metadata": {},
   "outputs": [],
   "source": [
    "raw_email_string=raw_email.decode('utf-8')"
   ]
  },
  {
   "cell_type": "code",
   "execution_count": null,
   "id": "1c25b35a",
   "metadata": {},
   "outputs": [],
   "source": [
    "raw_email_string"
   ]
  },
  {
   "cell_type": "code",
   "execution_count": null,
   "id": "e370a621",
   "metadata": {},
   "outputs": [],
   "source": [
    "import email"
   ]
  },
  {
   "cell_type": "code",
   "execution_count": null,
   "id": "8cd24957",
   "metadata": {},
   "outputs": [],
   "source": [
    "email_message=email.message_from_string(raw_email_string)"
   ]
  },
  {
   "cell_type": "code",
   "execution_count": null,
   "id": "b5f729e4",
   "metadata": {},
   "outputs": [],
   "source": [
    "for i in email_message.walk():\n",
    "    if i.get_content_type()==\"text/plain\":\n",
    "        body=i.get_payload(decode=True)\n",
    "        print(body)"
   ]
  }
 ],
 "metadata": {
  "kernelspec": {
   "display_name": "Python 3",
   "language": "python",
   "name": "python3"
  },
  "language_info": {
   "codemirror_mode": {
    "name": "ipython",
    "version": 3
   },
   "file_extension": ".py",
   "mimetype": "text/x-python",
   "name": "python",
   "nbconvert_exporter": "python",
   "pygments_lexer": "ipython3",
   "version": "3.8.2"
  }
 },
 "nbformat": 4,
 "nbformat_minor": 5
}
