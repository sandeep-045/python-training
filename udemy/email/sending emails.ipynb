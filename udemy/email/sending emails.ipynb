{
 "cells": [
  {
   "cell_type": "code",
   "execution_count": 25,
   "id": "3797887c",
   "metadata": {},
   "outputs": [],
   "source": [
    "import smtplib"
   ]
  },
  {
   "cell_type": "code",
   "execution_count": 26,
   "id": "78a9d659",
   "metadata": {},
   "outputs": [],
   "source": [
    "obj=smtplib.SMTP(\"smtp.gmail.com\",587) #portnumber 587 465"
   ]
  },
  {
   "cell_type": "code",
   "execution_count": 27,
   "id": "72e4e70b",
   "metadata": {},
   "outputs": [
    {
     "data": {
      "text/plain": [
       "(250,\n",
       " b'smtp.gmail.com at your service, [219.91.202.188]\\nSIZE 35882577\\n8BITMIME\\nSTARTTLS\\nENHANCEDSTATUSCODES\\nPIPELINING\\nCHUNKING\\nSMTPUTF8')"
      ]
     },
     "execution_count": 27,
     "metadata": {},
     "output_type": "execute_result"
    }
   ],
   "source": [
    "obj.ehlo()"
   ]
  },
  {
   "cell_type": "code",
   "execution_count": 28,
   "id": "be7698a3",
   "metadata": {},
   "outputs": [
    {
     "data": {
      "text/plain": [
       "(220, b'2.0.0 Ready to start TLS')"
      ]
     },
     "execution_count": 28,
     "metadata": {},
     "output_type": "execute_result"
    }
   ],
   "source": [
    "obj.starttls()"
   ]
  },
  {
   "cell_type": "code",
   "execution_count": 29,
   "id": "5579a6fc",
   "metadata": {},
   "outputs": [
    {
     "name": "stdout",
     "output_type": "stream",
     "text": [
      "email········\n",
      "password········\n"
     ]
    },
    {
     "data": {
      "text/plain": [
       "(235, b'2.7.0 Accepted')"
      ]
     },
     "execution_count": 29,
     "metadata": {},
     "output_type": "execute_result"
    }
   ],
   "source": [
    "import getpass\n",
    "email=getpass.getpass(\"email\")\n",
    "password=getpass.getpass(\"password\")\n",
    "obj.login(email,password)"
   ]
  },
  {
   "cell_type": "code",
   "execution_count": 30,
   "id": "98bfbe1c",
   "metadata": {},
   "outputs": [
    {
     "data": {
      "text/plain": [
       "{}"
      ]
     },
     "execution_count": 30,
     "metadata": {},
     "output_type": "execute_result"
    }
   ],
   "source": [
    "from_addr=email\n",
    "to_addr=email\n",
    "msg=\"Subject:\"+ \"pyscript email\" \"\\n\" + \"this is in the body\"\n",
    "obj.sendmail(from_addr,to_addr,msg)"
   ]
  },
  {
   "cell_type": "code",
   "execution_count": 31,
   "id": "325e3701",
   "metadata": {},
   "outputs": [
    {
     "data": {
      "text/plain": [
       "(221, b'2.0.0 closing connection c24sm20042666pfn.86 - gsmtp')"
      ]
     },
     "execution_count": 31,
     "metadata": {},
     "output_type": "execute_result"
    }
   ],
   "source": [
    "obj.quit()"
   ]
  }
 ],
 "metadata": {
  "kernelspec": {
   "display_name": "Python 3",
   "language": "python",
   "name": "python3"
  },
  "language_info": {
   "codemirror_mode": {
    "name": "ipython",
    "version": 3
   },
   "file_extension": ".py",
   "mimetype": "text/x-python",
   "name": "python",
   "nbconvert_exporter": "python",
   "pygments_lexer": "ipython3",
   "version": "3.8.2"
  }
 },
 "nbformat": 4,
 "nbformat_minor": 5
}
