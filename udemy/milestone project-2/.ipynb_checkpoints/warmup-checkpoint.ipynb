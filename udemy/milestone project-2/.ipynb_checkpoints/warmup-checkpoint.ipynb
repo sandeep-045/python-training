{
 "cells": [
  {
   "cell_type": "code",
   "execution_count": 1,
   "id": "91606cce",
   "metadata": {},
   "outputs": [],
   "source": [
    "suits = ('Hearts', 'Diamonds', 'Spades', 'Clubs')\n",
    "ranks = ('Two', 'Three', 'Four', 'Five', 'Six', 'Seven', 'Eight', 'Nine', 'Ten', 'Jack', 'Queen', 'King', 'Ace')\n",
    "values = {'Two':2, 'Three':3, 'Four':4, 'Five':5, 'Six':6, 'Seven':7, 'Eight':8, \n",
    "            'Nine':9, 'Ten':10, 'Jack':11, 'Queen':12, 'King':13, 'Ace':14}"
   ]
  },
  {
   "cell_type": "code",
   "execution_count": 8,
   "id": "cad40017",
   "metadata": {},
   "outputs": [],
   "source": [
    "class Card:\n",
    "    \n",
    "    def __init__(self,suit,rank):\n",
    "        self.suit=suit\n",
    "        self.rank=rank\n",
    "        self.value=values[rank]\n",
    "        \n",
    "    def __str__(self):\n",
    "        \n",
    "        return self.rank + ' of ' + self.suit\n",
    "        \n"
   ]
  },
  {
   "cell_type": "code",
   "execution_count": 9,
   "id": "f7b395e2",
   "metadata": {},
   "outputs": [],
   "source": [
    "c1=Card(\"Hearts\",\"Two\")"
   ]
  },
  {
   "cell_type": "code",
   "execution_count": 12,
   "id": "6aeabe5b",
   "metadata": {},
   "outputs": [],
   "source": [
    "c2=Card(\"Clubs\",\"Ace\")"
   ]
  },
  {
   "cell_type": "code",
   "execution_count": 41,
   "id": "fdb45ec2",
   "metadata": {},
   "outputs": [],
   "source": [
    "import random"
   ]
  },
  {
   "cell_type": "code",
   "execution_count": 51,
   "id": "0921ab48",
   "metadata": {},
   "outputs": [],
   "source": [
    "class Deck:\n",
    "    def __init__(self):\n",
    "        self.all_cards=[]\n",
    "        for suit in suits:\n",
    "            for rank in ranks:\n",
    "                c=Card(suit,rank)\n",
    "                self.all_cards.append(c)\n",
    "                \n",
    "    def shuffle(self):\n",
    "        random.shuffle(self.all_cards)\n",
    "        \n",
    "    def dealone(self):\n",
    "        return self.all_cards.pop()"
   ]
  },
  {
   "cell_type": "code",
   "execution_count": 56,
   "id": "45d79ac3",
   "metadata": {},
   "outputs": [],
   "source": [
    "d=Deck()"
   ]
  },
  {
   "cell_type": "code",
   "execution_count": 44,
   "id": "2c477e89",
   "metadata": {},
   "outputs": [
    {
     "name": "stdout",
     "output_type": "stream",
     "text": [
      "Nine of Diamonds\n"
     ]
    }
   ],
   "source": [
    "print(d.all_cards[20])"
   ]
  },
  {
   "cell_type": "code",
   "execution_count": 47,
   "id": "815b003e",
   "metadata": {},
   "outputs": [],
   "source": [
    "d.shuffle()"
   ]
  },
  {
   "cell_type": "code",
   "execution_count": 48,
   "id": "7f65fba6",
   "metadata": {},
   "outputs": [
    {
     "name": "stdout",
     "output_type": "stream",
     "text": [
      "Six of Clubs\n"
     ]
    }
   ],
   "source": [
    "print(d.all_cards[20])"
   ]
  },
  {
   "cell_type": "code",
   "execution_count": 49,
   "id": "b9fd7656",
   "metadata": {
    "scrolled": true
   },
   "outputs": [
    {
     "data": {
      "text/plain": [
       "52"
      ]
     },
     "execution_count": 49,
     "metadata": {},
     "output_type": "execute_result"
    }
   ],
   "source": [
    "len(d.all_cards)"
   ]
  },
  {
   "cell_type": "code",
   "execution_count": 54,
   "id": "2839d766",
   "metadata": {
    "scrolled": true
   },
   "outputs": [
    {
     "name": "stdout",
     "output_type": "stream",
     "text": [
      "Ace of Clubs\n"
     ]
    }
   ],
   "source": [
    "# print(d.dealone())"
   ]
  },
  {
   "cell_type": "code",
   "execution_count": 59,
   "id": "a8602882",
   "metadata": {},
   "outputs": [],
   "source": [
    "class Player:\n",
    "    \n",
    "    def __init__(self,name):\n",
    "        self.name=name\n",
    "        self.player_cards=[]\n",
    "        \n",
    "    def add_cards(self,card):\n",
    "        if type(card)==type([]):\n",
    "            self.player_cards.extend(card)\n",
    "        else:\n",
    "            self.player_cards.append(card)\n",
    "    \n",
    "    def remove_one(self):\n",
    "        self.player_cards.pop(0)\n",
    "        \n",
    "    def __str__(self):\n",
    "        return f\"{self.name} has {len(self.player_cards)} cards\""
   ]
  },
  {
   "cell_type": "code",
   "execution_count": 62,
   "id": "62b5db15",
   "metadata": {},
   "outputs": [],
   "source": [
    "p1=Player(\"sandeep\")"
   ]
  },
  {
   "cell_type": "code",
   "execution_count": 66,
   "id": "98fcd638",
   "metadata": {},
   "outputs": [
    {
     "name": "stdout",
     "output_type": "stream",
     "text": [
      "sandeep has 0 cards\n"
     ]
    }
   ],
   "source": [
    "print(p1)"
   ]
  },
  {
   "cell_type": "code",
   "execution_count": 67,
   "id": "8741e8c7",
   "metadata": {},
   "outputs": [],
   "source": [
    "p1.add_cards([c1,c2])"
   ]
  },
  {
   "cell_type": "code",
   "execution_count": 70,
   "id": "2f6898eb",
   "metadata": {},
   "outputs": [
    {
     "name": "stdout",
     "output_type": "stream",
     "text": [
      "Two of Hearts\n"
     ]
    }
   ],
   "source": [
    "print(p1.player_cards[0])"
   ]
  },
  {
   "cell_type": "markdown",
   "id": "f80c87fb",
   "metadata": {},
   "source": [
    "# setup a game between two players"
   ]
  },
  {
   "cell_type": "markdown",
   "id": "343f0da0",
   "metadata": {},
   "source": [
    "# "
   ]
  }
 ],
 "metadata": {
  "kernelspec": {
   "display_name": "Python 3",
   "language": "python",
   "name": "python3"
  },
  "language_info": {
   "codemirror_mode": {
    "name": "ipython",
    "version": 3
   },
   "file_extension": ".py",
   "mimetype": "text/x-python",
   "name": "python",
   "nbconvert_exporter": "python",
   "pygments_lexer": "ipython3",
   "version": "3.8.2"
  }
 },
 "nbformat": 4,
 "nbformat_minor": 5
}
