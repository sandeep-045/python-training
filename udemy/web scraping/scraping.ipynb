{
 "cells": [
  {
   "cell_type": "code",
   "execution_count": 1,
   "id": "7535f5f9",
   "metadata": {},
   "outputs": [],
   "source": [
    "import requests"
   ]
  },
  {
   "cell_type": "code",
   "execution_count": 3,
   "id": "5af7f60b",
   "metadata": {},
   "outputs": [],
   "source": [
    "result=requests.get(\"http://www.example.com\")"
   ]
  },
  {
   "cell_type": "code",
   "execution_count": 10,
   "id": "d31d9c62",
   "metadata": {},
   "outputs": [],
   "source": [
    "import bs4"
   ]
  },
  {
   "cell_type": "code",
   "execution_count": 14,
   "id": "99e93297",
   "metadata": {},
   "outputs": [],
   "source": [
    "soup=bs4.BeautifulSoup(result.text,'lxml')"
   ]
  },
  {
   "cell_type": "code",
   "execution_count": 28,
   "id": "4fecf19d",
   "metadata": {},
   "outputs": [
    {
     "data": {
      "text/plain": [
       "'Example Domain'"
      ]
     },
     "execution_count": 28,
     "metadata": {},
     "output_type": "execute_result"
    }
   ],
   "source": [
    "soup.select(\"title\")[0].getText()"
   ]
  },
  {
   "cell_type": "code",
   "execution_count": 68,
   "id": "18f8ee54",
   "metadata": {},
   "outputs": [],
   "source": [
    "result2=requests.get('https://en.wikipedia.org/wiki/Deep_Blue_(chess_computer)')"
   ]
  },
  {
   "cell_type": "code",
   "execution_count": 69,
   "id": "618f52a3",
   "metadata": {},
   "outputs": [],
   "source": [
    "soup2=bs4.BeautifulSoup(result2.text,'lxml')"
   ]
  },
  {
   "cell_type": "code",
   "execution_count": 42,
   "id": "406a0656",
   "metadata": {},
   "outputs": [
    {
     "name": "stdout",
     "output_type": "stream",
     "text": [
      "1 Early life and education\n",
      "2 Career\n",
      "\n",
      "2.1 World War II\n",
      "2.2 UNIVAC\n",
      "2.3 COBOL\n",
      "2.4 Standards\n",
      "\n",
      "\n",
      "3 Retirement\n",
      "4 Post-retirement\n",
      "5 Anecdotes\n",
      "6 Death\n",
      "7 Dates of rank\n",
      "8 Awards and honors\n",
      "\n",
      "8.1 Military awards\n",
      "8.2 Other awards\n",
      "\n",
      "\n",
      "9 Legacy\n",
      "\n",
      "9.1 Places\n",
      "9.2 Programs\n",
      "9.3 In popular culture\n",
      "\n",
      "9.3.1 Grace Hopper Celebration of Women in Computing\n",
      "\n",
      "\n",
      "\n",
      "\n",
      "10 See also\n",
      "11 Notes\n",
      "12 Obituary notices\n",
      "13 References\n",
      "14 Further reading\n",
      "15 External links\n"
     ]
    }
   ],
   "source": [
    "for s in soup2.select('.toclevel-1'):\n",
    "    print(s.text)"
   ]
  },
  {
   "cell_type": "markdown",
   "id": "e6f5f8b0",
   "metadata": {},
   "source": [
    "# Grabbing an Image"
   ]
  },
  {
   "cell_type": "code",
   "execution_count": 85,
   "id": "5fb041f0",
   "metadata": {},
   "outputs": [],
   "source": [
    "i=soup2.select('img')[0]"
   ]
  },
  {
   "cell_type": "code",
   "execution_count": 87,
   "id": "75bc0da0",
   "metadata": {},
   "outputs": [
    {
     "data": {
      "text/plain": [
       "'//upload.wikimedia.org/wikipedia/commons/thumb/b/be/Deep_Blue.jpg/220px-Deep_Blue.jpg'"
      ]
     },
     "execution_count": 87,
     "metadata": {},
     "output_type": "execute_result"
    }
   ],
   "source": [
    "i['src']"
   ]
  },
  {
   "cell_type": "code",
   "execution_count": 91,
   "id": "37ea09ee",
   "metadata": {},
   "outputs": [],
   "source": [
    "rss=requests.get('https://upload.wikimedia.org/wikipedia/commons/thumb/b/be/Deep_Blue.jpg/220px-Deep_Blue.jpg')"
   ]
  },
  {
   "cell_type": "code",
   "execution_count": 95,
   "id": "6444610d",
   "metadata": {},
   "outputs": [],
   "source": [
    "f=open('image.jpg','wb')\n",
    "f.write(rss.content)\n",
    "f.close()"
   ]
  },
  {
   "cell_type": "markdown",
   "id": "8df4b617",
   "metadata": {},
   "source": [
    "<img src=\"//upload.wikimedia.org/wikipedia/commons/thumb/b/be/Deep_Blue.jpg/220px-Deep_Blue.jpg\">"
   ]
  }
 ],
 "metadata": {
  "kernelspec": {
   "display_name": "Python 3",
   "language": "python",
   "name": "python3"
  },
  "language_info": {
   "codemirror_mode": {
    "name": "ipython",
    "version": 3
   },
   "file_extension": ".py",
   "mimetype": "text/x-python",
   "name": "python",
   "nbconvert_exporter": "python",
   "pygments_lexer": "ipython3",
   "version": "3.8.2"
  }
 },
 "nbformat": 4,
 "nbformat_minor": 5
}
