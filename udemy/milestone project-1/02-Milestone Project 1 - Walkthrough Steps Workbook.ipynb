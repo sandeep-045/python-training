{
 "cells": [
  {
   "cell_type": "markdown",
   "metadata": {},
   "source": [
    "___\n",
    "\n",
    "<a href='https://www.udemy.com/user/joseportilla/'><img src='../Pierian_Data_Logo.png'/></a>\n",
    "___\n",
    "<center><em>Content Copyright by Pierian Data</em></center>"
   ]
  },
  {
   "cell_type": "markdown",
   "metadata": {},
   "source": [
    "# Milestone Project 1: Walkthrough Steps Workbook\n",
    "\n",
    "Below is a set of steps for you to follow to try to create the Tic Tac Toe Milestone Project game!"
   ]
  },
  {
   "cell_type": "markdown",
   "metadata": {},
   "source": [
    "#### Some suggested tools before you get started:\n",
    "To take input from a user:\n",
    "\n",
    "    player1 = input(\"Please pick a marker 'X' or 'O'\")\n",
    "    \n",
    "Note that input() takes in a string. If you need an integer value, use\n",
    "\n",
    "    position = int(input('Please enter a number'))\n",
    "    \n",
    "<br>To clear the screen between moves:\n",
    "\n",
    "    from IPython.display import clear_output\n",
    "    clear_output()\n",
    "    \n",
    "Note that clear_output() will only work in jupyter. To clear the screen in other IDEs, consider:\n",
    "\n",
    "    print('\\n'*100)\n",
    "    \n",
    "This scrolls the previous board up out of view. Now on to the program!"
   ]
  },
  {
   "cell_type": "markdown",
   "metadata": {},
   "source": [
    "**Step 1: Write a function that can print out a board. Set up your board as a list, where each index 1-9 corresponds with a number on a number pad, so you get a 3 by 3 board representation.**"
   ]
  },
  {
   "cell_type": "code",
   "execution_count": 92,
   "metadata": {},
   "outputs": [],
   "source": [
    "from IPython.display import clear_output\n",
    "\n",
    "def display_board(board):\n",
    "    print(\"\\n   ____________________\\n\")\n",
    "    for i in range(1,10):\n",
    "        print(\"  |  \",board[i],end=\"\")\n",
    "        if (i)%3==0:\n",
    "            print(\"  |\\n   ____________________\\n\")"
   ]
  },
  {
   "cell_type": "markdown",
   "metadata": {},
   "source": [
    "**TEST Step 1:** run your function on a test version of the board list, and make adjustments as necessary"
   ]
  },
  {
   "cell_type": "code",
   "execution_count": 93,
   "metadata": {},
   "outputs": [
    {
     "name": "stdout",
     "output_type": "stream",
     "text": [
      "\n",
      "   ____________________\n",
      "\n",
      "  |   X  |   O  |   X  |\n",
      "   ____________________\n",
      "\n",
      "  |   O  |   X  |   O  |\n",
      "   ____________________\n",
      "\n",
      "  |   X  |   O  |   X  |\n",
      "   ____________________\n",
      "\n"
     ]
    }
   ],
   "source": [
    "test_board = ['#','X','O','X','O','X','O','X','O','X']\n",
    "display_board(test_board)"
   ]
  },
  {
   "cell_type": "markdown",
   "metadata": {},
   "source": [
    "**Step 2: Write a function that can take in a player input and assign their marker as 'X' or 'O'. Think about using *while* loops to continually ask until you get a correct answer.**"
   ]
  },
  {
   "cell_type": "code",
   "execution_count": 94,
   "metadata": {},
   "outputs": [],
   "source": [
    "def player_input():\n",
    "    while True:\n",
    "        x=input(\"Choose between X and O:\").upper()\n",
    "        if x not in \"XO\":\n",
    "            clear_output()\n",
    "            continue\n",
    "        if x=='X':\n",
    "            return ('X','O')\n",
    "        elif x=='O':\n",
    "            return ('O','X')\n",
    "        clear_output()\n",
    "    "
   ]
  },
  {
   "cell_type": "markdown",
   "metadata": {},
   "source": [
    "**TEST Step 2:** run the function to make sure it returns the desired output"
   ]
  },
  {
   "cell_type": "code",
   "execution_count": 95,
   "metadata": {
    "scrolled": true
   },
   "outputs": [
    {
     "name": "stdout",
     "output_type": "stream",
     "text": [
      "Choose between X and O:o\n"
     ]
    }
   ],
   "source": [
    "p1_marker,p2_marker=player_input()"
   ]
  },
  {
   "cell_type": "markdown",
   "metadata": {},
   "source": [
    "**Step 3: Write a function that takes in the board list object, a marker ('X' or 'O'), and a desired position (number 1-9) and assigns it to the board.**"
   ]
  },
  {
   "cell_type": "code",
   "execution_count": 98,
   "metadata": {},
   "outputs": [],
   "source": [
    "def place_marker(board, marker, position):\n",
    "    \n",
    "    board[position]=marker"
   ]
  },
  {
   "cell_type": "markdown",
   "metadata": {},
   "source": [
    "**TEST Step 3:** run the place marker function using test parameters and display the modified board"
   ]
  },
  {
   "cell_type": "code",
   "execution_count": 99,
   "metadata": {},
   "outputs": [
    {
     "name": "stdout",
     "output_type": "stream",
     "text": [
      "\n",
      "   ____________________\n",
      "\n",
      "  |   X  |   O  |   X  |\n",
      "   ____________________\n",
      "\n",
      "  |   O  |   X  |   O  |\n",
      "   ____________________\n",
      "\n",
      "  |   X  |   $  |   X  |\n",
      "   ____________________\n",
      "\n"
     ]
    }
   ],
   "source": [
    "place_marker(test_board,'$',8)\n",
    "display_board(test_board)"
   ]
  },
  {
   "cell_type": "markdown",
   "metadata": {},
   "source": [
    "**Step 4: Write a function that takes in a board and a mark (X or O) and then checks to see if that mark has won. **"
   ]
  },
  {
   "cell_type": "code",
   "execution_count": 28,
   "metadata": {},
   "outputs": [],
   "source": [
    "def win_check(board, mark):\n",
    "    if mark==board[1]==board[2]==board[3]:\n",
    "        return True\n",
    "    elif mark==board[4]==board[5]==board[6]:\n",
    "        return True\n",
    "    elif mark==board[7]==board[8]==board[9]:\n",
    "        return True\n",
    "    elif mark==board[1]==board[5]==board[9]:\n",
    "        return True\n",
    "    elif mark==board[7]==board[5]==board[3]:\n",
    "        return True\n",
    "    elif mark==board[1]==board[4]==board[7]:\n",
    "        return True\n",
    "    elif mark==board[2]==board[5]==board[8]:\n",
    "        return True\n",
    "    elif mark==board[3]==board[6]==board[9]:\n",
    "        return True\n",
    "    return False"
   ]
  },
  {
   "cell_type": "markdown",
   "metadata": {},
   "source": [
    "**TEST Step 4:** run the win_check function against our test_board - it should return True"
   ]
  },
  {
   "cell_type": "code",
   "execution_count": 100,
   "metadata": {},
   "outputs": [
    {
     "data": {
      "text/plain": [
       "True"
      ]
     },
     "execution_count": 100,
     "metadata": {},
     "output_type": "execute_result"
    }
   ],
   "source": [
    "win_check(test_board,'X')"
   ]
  },
  {
   "cell_type": "markdown",
   "metadata": {},
   "source": [
    "**Step 5: Write a function that uses the random module to randomly decide which player goes first. You may want to lookup random.randint() Return a string of which player went first.**"
   ]
  },
  {
   "cell_type": "code",
   "execution_count": 101,
   "metadata": {},
   "outputs": [],
   "source": [
    "import random\n",
    "\n",
    "def choose_first():\n",
    "    \n",
    "    return \"player{}\".format(random.randint(1,2))\n",
    "    \n",
    "    "
   ]
  },
  {
   "cell_type": "code",
   "execution_count": 113,
   "metadata": {},
   "outputs": [
    {
     "data": {
      "text/plain": [
       "'player1'"
      ]
     },
     "execution_count": 113,
     "metadata": {},
     "output_type": "execute_result"
    }
   ],
   "source": [
    "choose_first()"
   ]
  },
  {
   "cell_type": "markdown",
   "metadata": {},
   "source": [
    "**Step 6: Write a function that returns a boolean indicating whether a space on the board is freely available.**"
   ]
  },
  {
   "cell_type": "code",
   "execution_count": 102,
   "metadata": {},
   "outputs": [],
   "source": [
    "def space_check(board, position):\n",
    "    return board[position]==\" \""
   ]
  },
  {
   "cell_type": "markdown",
   "metadata": {},
   "source": [
    "**Step 7: Write a function that checks if the board is full and returns a boolean value. True if full, False otherwise.**"
   ]
  },
  {
   "cell_type": "code",
   "execution_count": 105,
   "metadata": {},
   "outputs": [],
   "source": [
    "def full_board_check(board):\n",
    "    return \" \" not in board"
   ]
  },
  {
   "cell_type": "raw",
   "metadata": {},
   "source": [
    "**Step 8: Write a function that asks for a player's next position (as a number 1-9) and then uses the function from step 6 to check if it's a free position. If it is, then return the position for later use.**"
   ]
  },
  {
   "cell_type": "code",
   "execution_count": 154,
   "metadata": {},
   "outputs": [],
   "source": [
    "def player_choice(board):\n",
    "    x=0\n",
    "    while (x<1 and x>9) or not space_check(board,x):\n",
    "        x = int(input(\"Enter a position from 1-9\"))\n",
    "    \n",
    "    return x  "
   ]
  },
  {
   "cell_type": "markdown",
   "metadata": {},
   "source": [
    "**Step 9: Write a function that asks the player if they want to play again and returns a boolean True if they do want to play again.**"
   ]
  },
  {
   "cell_type": "code",
   "execution_count": 106,
   "metadata": {},
   "outputs": [],
   "source": [
    "def replay():\n",
    "    x=input(\"Wanna Play Again Y/N? \")\n",
    "    if x in \"yY\":\n",
    "        return True\n",
    "    else:\n",
    "        return False"
   ]
  },
  {
   "cell_type": "code",
   "execution_count": 108,
   "metadata": {
    "scrolled": true
   },
   "outputs": [
    {
     "name": "stdout",
     "output_type": "stream",
     "text": [
      "Wanna Play Again Y/N? N\n"
     ]
    },
    {
     "data": {
      "text/plain": [
       "False"
      ]
     },
     "execution_count": 108,
     "metadata": {},
     "output_type": "execute_result"
    }
   ],
   "source": [
    "replay()"
   ]
  },
  {
   "cell_type": "markdown",
   "metadata": {
    "collapsed": true
   },
   "source": [
    "**Step 10: Here comes the hard part! Use while loops and the functions you've made to run the game!**"
   ]
  },
  {
   "cell_type": "code",
   "execution_count": 119,
   "metadata": {},
   "outputs": [],
   "source": [
    "from time import sleep"
   ]
  },
  {
   "cell_type": "code",
   "execution_count": 157,
   "metadata": {},
   "outputs": [
    {
     "name": "stdout",
     "output_type": "stream",
     "text": [
      "\n",
      "   ____________________\n",
      "\n",
      "  |   X  |   O  |   X  |\n",
      "   ____________________\n",
      "\n",
      "  |   O  |   X  |   O  |\n",
      "   ____________________\n",
      "\n",
      "  |      |      |      |\n",
      "   ____________________\n",
      "\n",
      "Player 1's turn\n",
      "Enter a position from 1-91\n",
      "Enter a position from 1-97\n",
      "\n",
      "   ____________________\n",
      "\n",
      "  |   X  |   O  |   X  |\n",
      "   ____________________\n",
      "\n",
      "  |   O  |   X  |   O  |\n",
      "   ____________________\n",
      "\n",
      "  |   X  |      |      |\n",
      "   ____________________\n",
      "\n",
      "PLAYER 1 WINS!...\n",
      "Wanna Play Again Y/N? N\n"
     ]
    }
   ],
   "source": [
    "print('Welcome to Tic Tac Toe!')\n",
    "\n",
    "while True:\n",
    "    t_board=[1]+[' ']*9\n",
    "    \n",
    "    p1_marker,p2_marker=player_input()\n",
    "    \n",
    "    turn=choose_first()\n",
    "    sleep(0.5)\n",
    "    \n",
    "    print('\\n',turn + ' goes first....')\n",
    "    \n",
    "    sleep(0.5)\n",
    "    \n",
    "    gt=input(\"Ready to play Y/N ?\")\n",
    "    \n",
    "    if gt in \"yY\":\n",
    "        game_on=True\n",
    "    else:\n",
    "        game_on=False\n",
    "    \n",
    "    while game_on:\n",
    "        \n",
    "        if turn==\"player1\":\n",
    "            clear_output()\n",
    "            display_board(t_board)\n",
    "            \n",
    "            print(\"Player 1\\'s turn\")\n",
    "            #choose position\n",
    "            \n",
    "            position=player_choice(t_board)\n",
    "            \n",
    "        \n",
    "            place_marker(t_board,p1_marker,position)\n",
    "            \n",
    "            if win_check(t_board,p1_marker):\n",
    "                display_board(t_board)\n",
    "                print(\"PLAYER 1 WINS!...\")\n",
    "                game_on=False\n",
    "            else:\n",
    "                if full_board_check(t_board):\n",
    "                    display_board(t_board)\n",
    "                    print(\"TIE GAME....\")\n",
    "                    game_on=False\n",
    "                else:\n",
    "                    turn=\"player2\"\n",
    "            \n",
    "        else:\n",
    "            clear_output()\n",
    "            display_board(t_board)\n",
    "           \n",
    "            #choose position\n",
    "            print(\"Player 2\\'s turn\")\n",
    "            position=player_choice(t_board)\n",
    "            \n",
    "        \n",
    "            place_marker(t_board,p2_marker,position)\n",
    "            \n",
    "            if win_check(t_board,p2_marker):\n",
    "                display_board(t_board)\n",
    "                print(\"PLAYER 2 WINS!...\")\n",
    "                game_on=False\n",
    "            else:\n",
    "                if full_board_check(t_board):\n",
    "                    display_board(t_board)\n",
    "                    print(\"TIE GAME....\")\n",
    "                    game_on=False\n",
    "                else:\n",
    "                    turn=\"player1\"\n",
    "\n",
    "    if not replay():\n",
    "        break"
   ]
  },
  {
   "cell_type": "markdown",
   "metadata": {
    "collapsed": true
   },
   "source": [
    "## Good Job!"
   ]
  }
 ],
 "metadata": {
  "kernelspec": {
   "display_name": "Python 3",
   "language": "python",
   "name": "python3"
  },
  "language_info": {
   "codemirror_mode": {
    "name": "ipython",
    "version": 3
   },
   "file_extension": ".py",
   "mimetype": "text/x-python",
   "name": "python",
   "nbconvert_exporter": "python",
   "pygments_lexer": "ipython3",
   "version": "3.8.2"
  }
 },
 "nbformat": 4,
 "nbformat_minor": 1
}
